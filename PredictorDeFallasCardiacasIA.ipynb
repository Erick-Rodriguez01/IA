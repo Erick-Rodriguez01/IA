{
  "nbformat": 4,
  "nbformat_minor": 0,
  "metadata": {
    "colab": {
      "name": "Untitled0.ipynb",
      "provenance": [],
      "authorship_tag": "ABX9TyOAGctfZEH2/3o2RyHDKSCV",
      "include_colab_link": true
    },
    "kernelspec": {
      "name": "python3",
      "display_name": "Python 3"
    },
    "language_info": {
      "name": "python"
    }
  },
  "cells": [
    {
      "cell_type": "markdown",
      "metadata": {
        "id": "view-in-github",
        "colab_type": "text"
      },
      "source": [
        "<a href=\"https://colab.research.google.com/github/Erick-Rodriguez01/IA/blob/main/PredictorDeFallasCardiacasIA.ipynb\" target=\"_parent\"><img src=\"https://colab.research.google.com/assets/colab-badge.svg\" alt=\"Open In Colab\"/></a>"
      ]
    },
    {
      "cell_type": "markdown",
      "metadata": {
        "id": "UAcUiI7sNpN-"
      },
      "source": [
        "#Proyecto Final Inteligencia Artificial.\n",
        "\n",
        "Tema: Prediccion de falla cardiaca, el objetivo es determinar sí el paciente presentara una falla cardiaca en un periodo cercano.\n",
        "Dataset utilizado: https://www.kaggle.com/andrewmvd/heart-failure-clinical-data\n",
        "\n",
        "Es un problema supervisado de clasificación, debido a que tenemos las caracterisiticas y las etiquetas y solo necesitamos que la inteligencia agrupe segun las caracteristicas ingresadas.\n"
      ]
    },
    {
      "cell_type": "code",
      "metadata": {
        "id": "2BUQlw4ZKYKc"
      },
      "source": [
        "import numpy as np\n",
        "import pandas as pd\n",
        "import tensorflow as tf\n",
        "import tensorflow.keras as kr\n",
        "from sklearn import datasets\n",
        "import matplotlib.pyplot as plt #for plotting\n",
        "from sklearn.model_selection import train_test_split\n",
        "from sklearn.datasets import make_classification\n",
        "from sklearn.neural_network import MLPClassifier\n",
        "from sklearn.svm import LinearSVC\n",
        "from sklearn.decomposition import PCA\n",
        "from sklearn.pipeline import make_pipeline\n",
        "from sklearn.preprocessing import StandardScaler\n",
        "from sklearn.preprocessing import scale\n",
        "import seaborn as sns\n",
        "from sklearn import metrics\n",
        "from sklearn.model_selection import cross_val_score\n",
        "#from sklearn.linear_model import LogisticRegression\n",
        "from sklearn.metrics import roc_auc_score\n",
        "import matplotlib.pyplot as plt\n",
        "from sklearn import svm\n",
        "from sklearn.metrics import roc_curve, auc"
      ],
      "execution_count": 88,
      "outputs": []
    },
    {
      "cell_type": "code",
      "metadata": {
        "colab": {
          "base_uri": "https://localhost:8080/"
        },
        "id": "g2zoo6w4Keqs",
        "outputId": "ac1d4156-499d-4eda-dbd6-cc1c73091b1e"
      },
      "source": [
        "df = pd.read_csv(\"/content/heart_failure_clinical_records_dataset.csv\")\n",
        "print(df.head())\n",
        "print(df.shape)\n"
      ],
      "execution_count": 89,
      "outputs": [
        {
          "output_type": "stream",
          "name": "stdout",
          "text": [
            "    age  anaemia  creatinine_phosphokinase  ...  smoking  time  DEATH_EVENT\n",
            "0  75.0        0                       582  ...        0     4            1\n",
            "1  55.0        0                      7861  ...        0     6            1\n",
            "2  65.0        0                       146  ...        1     7            1\n",
            "3  50.0        1                       111  ...        0     7            1\n",
            "4  65.0        1                       160  ...        0     8            1\n",
            "\n",
            "[5 rows x 13 columns]\n",
            "(299, 13)\n"
          ]
        }
      ]
    },
    {
      "cell_type": "code",
      "metadata": {
        "colab": {
          "base_uri": "https://localhost:8080/"
        },
        "id": "GocS3DWfkYNH",
        "outputId": "e07275b6-4faa-4709-f55b-6f9dbde68aa6"
      },
      "source": [
        "#Asignamos los valores a nuestras variables X y Y\n",
        "X = df[[\"age\",\"anaemia\",\"creatinine_phosphokinase\",\"diabetes\",\"ejection_fraction\",\"high_blood_pressure\",\"platelets\",\"serum_creatinine\",\"serum_sodium\",\"sex\",\"smoking\",\"time\"]].values\n",
        "y = df['DEATH_EVENT'].values\n",
        "\n",
        "#Separamos los valores en entrenamiento y prueba\n",
        "X_train, X_test, y_train, y_test = train_test_split(X, y, random_state=777,test_size=0.4)\n",
        "#print('Datos sin escalizar:',X_train)\n",
        "\n",
        "#Hacemos el escalamiento de los datos\n",
        "scaler = StandardScaler()\n",
        "X_train = scaler.fit_transform(X_train) #hacemos el entrenamiento y transformamos los datos\n",
        "X_test = scaler.transform(X_test)\n",
        "#print('Datos escalizados:',X_train)\n",
        "\n",
        "print(X_train.shape)\n",
        "print(X_test.shape)\n",
        "print(y.shape)\n"
      ],
      "execution_count": 90,
      "outputs": [
        {
          "output_type": "stream",
          "name": "stdout",
          "text": [
            "(179, 12)\n",
            "(120, 12)\n",
            "(299,)\n"
          ]
        }
      ]
    },
    {
      "cell_type": "code",
      "metadata": {
        "colab": {
          "base_uri": "https://localhost:8080/"
        },
        "id": "OPUXr7UrE8_Z",
        "outputId": "6d7eeca8-c703-4c9d-dbe9-67c551ec6d82"
      },
      "source": [
        "#log_reg=LogisticRegression()\n",
        "#log_reg.fit(X_train,y_train)\n",
        "clf = svm.LinearSVC(C=1, random_state=777).fit(X_train, y_train)\n",
        "y_predic_svm = clf.predict(X_test)\n",
        "matrix = confusion_matrix(y_test, y_predic_svm)\n",
        "tn, fp, fn, tp = confusion_matrix(y_test, y_predic_svm).ravel()\n",
        "print('Matriz de confusión del modelo:\\n', matrix)\n",
        "accuracy = accuracy_score(y_test, y_predic_svm)\n",
        "print('Accuracy del modelo:', accuracy)\n",
        "f1_2 = f1_score(y_test,y_predic_svm, average='macro')\n",
        "print('F1 modelo average macro:', f1_2)\n",
        "MCC= matthews_corrcoef(y_test, y_predic_svm)\n",
        "print('MCC del modelo:', MCC)\n",
        "\n",
        "#acrcy=cross_val_score(estimator=log_reg,X=X_test,y=y_test,cv=10)\n",
        "#print('Standard Deviation {:.2f}%'.format(acrcy.std()*100))\n"
      ],
      "execution_count": 91,
      "outputs": [
        {
          "output_type": "stream",
          "name": "stdout",
          "text": [
            "Matriz de confusión del modelo:\n",
            " [[79  9]\n",
            " [ 7 25]]\n",
            "Accuracy del modelo: 0.8666666666666667\n",
            "F1 modelo average macro: 0.8328108672936259\n",
            "MCC del modelo: 0.6663200452381971\n"
          ]
        }
      ]
    },
    {
      "cell_type": "code",
      "metadata": {
        "colab": {
          "base_uri": "https://localhost:8080/",
          "height": 294
        },
        "id": "kmMUfz1DPGOi",
        "outputId": "60ccbfc9-08ac-47d6-a8b5-857052c93305"
      },
      "source": [
        "AUC=[]\n",
        "AUC.append(roc_auc_score(y_test,y_predic_svm))\n",
        "\n",
        "fpr, tpr, thresholds = metrics.roc_curve(y_test, y_predic_svm, pos_label=1)\n",
        "plt.figure()\n",
        "lw = 2\n",
        "plt.plot(fpr, tpr, color='darkorange',lw=lw, label='ROC curve (area = %0.2f)' % roc_auc_score(y_test,y_predic_svm))\n",
        "plt.plot([0, 1], [0, 1], color='navy', lw=lw, linestyle='--')\n",
        "plt.xlim([0.0, 1.0])\n",
        "plt.ylim([0.0, 1.05])\n",
        "plt.xlabel('False Positive Rate')\n",
        "plt.ylabel('True Positive Rate')\n",
        "plt.title('Receiver operating characteristic. ROC')\n",
        "plt.legend(loc=\"lower right\")\n",
        "plt.show()"
      ],
      "execution_count": 94,
      "outputs": [
        {
          "output_type": "display_data",
          "data": {
            "image/png": "[encoded data removed]",
            "text/plain": [
              "<Figure size 432x288 with 1 Axes>"
            ]
          },
          "metadata": {
            "needs_background": "light"
          }
        }
      ]
    },
    {
      "cell_type": "code",
      "metadata": {
        "id": "cNPJITJqR2Ov"
      },
      "source": [
        "'''\n",
        "from sklearn.metrics import classification_report\n",
        "\n",
        "lr = 0.001           # learning rate\n",
        "nn = [64, 32, 16, 2]  # número de neuronas por capa.\n",
        "clf = MLPClassifier(solver=\"adam\",random_state=1, max_iter=200,learning_rate='adaptive',learning_rate_init=0.001,verbose=True).fit(X_train,y_train)\n",
        "\n",
        "# Creamos el objeto que contendrá a nuestra red neuronal, como\n",
        "# secuencia de capas.\n",
        "model = kr.Sequential()\n",
        "\n",
        "# Añadimos la capa 1\n",
        "l1 = model.add(kr.layers.Dense(nn[0], activation='relu'))\n",
        "\n",
        "# Añadimos la capa 2\n",
        "l2 = model.add(kr.layers.Dense(nn[1], activation='relu'))\n",
        "\n",
        "# Añadimos la capa 3\n",
        "l3 = model.add(kr.layers.Dense(nn[2], activation='relu'))\n",
        "\n",
        "# Añadimos la capa 4\n",
        "l4 = model.add(kr.layers.Dense(nn[3], activation='relu'))\n",
        "\n",
        "# Compilamos el modelo, definiendo la función de coste y el optimizador.\n",
        "\n",
        "model.compile(loss='mse', optimizer=kr.optimizers.SGD(lr=0.05), metrics=['acc'])\n",
        "\n",
        "# Y entrenamos al modelo. Los callbacks \n",
        "entreno=model.fit(X,y, epochs=100)\n"
      ],
      "execution_count": null,
      "outputs": []
    },
    {
      "cell_type": "markdown",
      "metadata": {
        "id": "HaEdA4I9NJZC"
      },
      "source": [
        "#Cross Validation\n",
        "EL resultado de cross validation con respecto a MCC es bastante bajo, por lo tanto se buscó otros modelos y se llego al siguiente resultado:\n",
        "\n",
        "#RandomForest\n",
        "Al variar parametros la ANN y no lograr obtener un accuracy alto ní un F1 bueno, se procedio a intentar con otro metodo como DecisionTree para buscar un resultado mejor."
      ]
    },
    {
      "cell_type": "code",
      "metadata": {
        "colab": {
          "base_uri": "https://localhost:8080/",
          "height": 401
        },
        "id": "kPRBfzJF3Wqy",
        "outputId": "a20a1942-1b9f-4ba8-8127-9534603a4141"
      },
      "source": [
        "from sklearn.tree import DecisionTreeClassifier\n",
        "from sklearn.ensemble import RandomForestClassifier\n",
        "from sklearn.metrics import confusion_matrix, make_scorer, accuracy_score, f1_score,matthews_corrcoef\n",
        "from sklearn.decomposition import PCA\n",
        "\n",
        "#DecisionTreeClassifier clasificador Gini \n",
        "clf_entropy = RandomForestClassifier(n_estimators=100,criterion='entropy',random_state = 666)\n",
        "            \n",
        "#Entrenamos el modelo\n",
        "clf_entropy = clf_entropy.fit(X_train, y_train)\n",
        "#Predecimos\n",
        "y_predic_entropy = clf_entropy.predict(X_test)\n",
        "\n",
        "#Revisamos datos obtenidos \n",
        "matrix = confusion_matrix(y_test, y_predic_entropy)\n",
        "tn, fp, fn, tp = confusion_matrix(y_test, y_predic_entropy).ravel()\n",
        "print('Matriz de confusión del modelo:\\n', matrix)\n",
        "accuracy = accuracy_score(y_test, y_predic_entropy)\n",
        "print('Accuracy del modelo:', accuracy)\n",
        "f1_2 = f1_score(y_test,y_predic_entropy, average='macro')\n",
        "print('F1 modelo average macro:', f1_2)\n",
        "MCC= matthews_corrcoef(y_test, y_predic_entropy)\n",
        "print('MCC del modelo:', MCC)\n",
        "\n",
        "AUC=[]\n",
        "AUC.append(roc_auc_score(y_test,y_predic_entropy))\n",
        "\n",
        "fpr, tpr, thresholds = metrics.roc_curve(y_test, y_predic_entropy, pos_label=1)\n",
        "plt.figure()\n",
        "lw = 2\n",
        "plt.plot(fpr, tpr, color='darkorange',lw=lw, label='ROC curve (area = %0.2f)' % roc_auc_score(y_test,y_predic_Gini))\n",
        "plt.plot([0, 1], [0, 1], color='navy', lw=lw, linestyle='--')\n",
        "plt.xlim([0.0, 1.0])\n",
        "plt.ylim([0.0, 1.05])\n",
        "plt.xlabel('False Positive Rate')\n",
        "plt.ylabel('True Positive Rate')\n",
        "plt.title('Receiver operating characteristic. ROC')\n",
        "plt.legend(loc=\"lower right\")\n",
        "plt.show()"
      ],
      "execution_count": 96,
      "outputs": [
        {
          "output_type": "stream",
          "name": "stdout",
          "text": [
            "Matriz de confusión del modelo:\n",
            " [[82  6]\n",
            " [ 6 26]]\n",
            "Accuracy del modelo: 0.9\n",
            "F1 modelo average macro: 0.8721590909090908\n",
            "MCC del modelo: 0.7443181818181818\n"
          ]
        },
        {
          "output_type": "display_data",
          "data": {
            "image/png": "[encoded data removed]",
            "text/plain": [
              "<Figure size 432x288 with 1 Axes>"
            ]
          },
          "metadata": {
            "needs_background": "light"
          }
        }
      ]
    },
    {
      "cell_type": "markdown",
      "metadata": {
        "id": "IHtiaRWUbTYP"
      },
      "source": [
        "#PCA\n",
        "Probamos el mismo algoritmo pero con PCA"
      ]
    },
    {
      "cell_type": "code",
      "metadata": {
        "colab": {
          "base_uri": "https://localhost:8080/"
        },
        "id": "XWydYWE9I3uD",
        "outputId": "9409b71c-d6de-45a4-a5ad-9460dc54dc78"
      },
      "source": [
        "df.head()\n",
        "from sklearn.decomposition import PCA\n",
        "import seaborn as sns\n",
        "import matplotlib.pyplot as plt\n",
        "\n",
        "X_cols= [\"age\",\"anaemia\",\"creatinine_phosphokinase\",\"diabetes\",\"ejection_fraction\",\"high_blood_pressure\",\"platelets\",\"serum_creatinine\",\"serum_sodium\",\"sex\",\"smoking\",\"time\"]\n",
        "df[X_cols] = scaler.fit_transform(df[X_cols])\n",
        "df.head()\n",
        "\n",
        "pca9 = PCA(n_components=11, random_state=42)\n",
        "pca9_1= pca9\n",
        "pca9 = pca9.fit_transform(df[X_cols])\n",
        "pca9[:4]\n",
        "df_9 = pd.DataFrame({'PCA1': pca9[:,0],'PCA2': pca9[:,1],'PCA3': pca9[:,2],'PCA4': pca9[:,3], 'PCA5': pca9[:,4],'PCA6': pca9[:,5],'PCA7': pca9[:,6],'PCA8': pca9[:,7],'PCA9': pca9[:,8],'PCA10': pca9[:,9],'PCA11': pca9[:,10], 'Problema de salud': df['DEATH_EVENT']})\n",
        "print(df_9.head())\n",
        "X_transformed = pca9_1.transform(df[X_cols])\n",
        "print(pca9_1.explained_variance_ratio_.sum())\n",
        "df_9.to_csv('/content/PCA.csv')\n",
        "#Pca con el 95% ahora usando estos datos vamos a meterlos en el arbol de desiciones \n"
      ],
      "execution_count": 57,
      "outputs": [
        {
          "output_type": "stream",
          "name": "stdout",
          "text": [
            "       PCA1      PCA2      PCA3  ...     PCA10     PCA11  Problema de salud\n",
            "0  0.877055  2.287104  1.033230  ... -0.280125  0.121551                  1\n",
            "1  1.863753 -1.552894  0.719821  ... -1.623122 -1.580640                  1\n",
            "2  2.526429  1.369821  1.285596  ... -1.286287  1.096595                  1\n",
            "3  0.579566  1.143232  0.631174  ... -0.268877  1.126152                  1\n",
            "4 -0.960485  2.639384  4.430958  ... -1.853231 -0.565899                  1\n",
            "\n",
            "[5 rows x 12 columns]\n",
            "0.9574490100695867\n"
          ]
        }
      ]
    },
    {
      "cell_type": "code",
      "metadata": {
        "colab": {
          "base_uri": "https://localhost:8080/",
          "height": 401
        },
        "id": "3gRPSvzXo35f",
        "outputId": "5aaea527-4412-4626-bd53-afaefd3cb0a3"
      },
      "source": [
        "df9 = pd.read_csv(\"/content/PCA.csv\")\n",
        "\n",
        "X = df9[[\"PCA1\",\"PCA2\",\"PCA3\",\"PCA4\",\"PCA5\",\"PCA6\",\"PCA7\",\"PCA8\",\"PCA9\",\"PCA10\",\"PCA11\"]].values\n",
        "y = df9['Problema de salud'].values\n",
        "X_train, X_test, y_train, y_test = train_test_split(df[X_cols], y, random_state=455,test_size=0.2)\n",
        "\n",
        "#DecisionTreeClassifier clasificador Gini \n",
        "clf_entropy = DecisionTreeClassifier(criterion='entropy')\n",
        "#Entrenamos el modelo\n",
        "clf_entropy = clf_entropy.fit(X_train, y_train)\n",
        "#Predecimos\n",
        "y_predic_entropy = clf_entropy.predict(X_test)\n",
        "\n",
        "#Revisamos datos obtenidos \n",
        "matrix = confusion_matrix(y_test, y_predic_entropy)\n",
        "tn, fp, fn, tp = confusion_matrix(y_test, y_predic_entropy).ravel()\n",
        "print('Matriz de confusión del modelo:\\n', matrix)\n",
        "accuracy = accuracy_score(y_test, y_predic_entropy)\n",
        "print('Accuracy del modelo:', accuracy)\n",
        "f1_2 = f1_score(y_test,y_predic_entropy, average='macro')\n",
        "print('F1 modelo average macro:', f1_2)\n",
        "MCC= matthews_corrcoef(y_test, y_predic_entropy)\n",
        "print('MCC del modelo:', MCC)\n",
        "\n",
        "AUC=[]\n",
        "AUC.append(roc_auc_score(y_test,y_predic_entropy))\n",
        "\n",
        "fpr, tpr, thresholds = metrics.roc_curve(y_test, y_predic_entropy, pos_label=1)\n",
        "plt.figure()\n",
        "lw = 2\n",
        "plt.plot(fpr, tpr, color='darkorange',lw=lw, label='ROC curve (area = %0.2f)' % roc_auc_score(y_test,y_predic_Gini))\n",
        "plt.plot([0, 1], [0, 1], color='navy', lw=lw, linestyle='--')\n",
        "plt.xlim([0.0, 1.0])\n",
        "plt.ylim([0.0, 1.05])\n",
        "plt.xlabel('False Positive Rate')\n",
        "plt.ylabel('True Positive Rate')\n",
        "plt.title('Receiver operating characteristic. ROC')\n",
        "plt.legend(loc=\"lower right\")\n",
        "plt.show()"
      ],
      "execution_count": 100,
      "outputs": [
        {
          "output_type": "stream",
          "name": "stdout",
          "text": [
            "Matriz de confusión del modelo:\n",
            " [[34  8]\n",
            " [ 8 10]]\n",
            "Accuracy del modelo: 0.7333333333333333\n",
            "F1 modelo average macro: 0.6825396825396826\n",
            "MCC del modelo: 0.36507936507936506\n"
          ]
        },
        {
          "output_type": "display_data",
          "data": {
            "image/png": "[encoded data removed]",
            "text/plain": [
              "<Figure size 432x288 with 1 Axes>"
            ]
          },
          "metadata": {
            "needs_background": "light"
          }
        }
      ]
    },
    {
      "cell_type": "markdown",
      "metadata": {
        "id": "I7F1VPF1LgH6"
      },
      "source": [
        "#Conclusiones\n",
        "\n",
        "Al realizar distintos tipos de algoritmos para verificar cual es el que se acerca más a un buen modelo se obtuvo que para este dataset el randomForest es la mejor.\n",
        "\n",
        "- Accuracy de: 0.9\n",
        "- F1 modelo average macro: 0.8721590909090908\n",
        "- MCC: 0.7443181818181818"
      ]
    }
  ]
}
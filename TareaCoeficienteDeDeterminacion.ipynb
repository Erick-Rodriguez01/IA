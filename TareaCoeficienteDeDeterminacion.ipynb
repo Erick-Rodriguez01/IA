{
  "nbformat": 4,
  "nbformat_minor": 0,
  "metadata": {
    "colab": {
      "name": "TareaCoeficienteDeDeterminacion.ipynb",
      "provenance": [],
      "include_colab_link": true
    },
    "kernelspec": {
      "name": "python3",
      "display_name": "Python 3"
    },
    "language_info": {
      "name": "python"
    }
  },
  "cells": [
    {
      "cell_type": "markdown",
      "metadata": {
        "id": "view-in-github",
        "colab_type": "text"
      },
      "source": [
        "<a href=\"https://colab.research.google.com/github/Erick-Rodriguez01/IA/blob/main/TareaCoeficienteDeDeterminacion.ipynb\" target=\"_parent\"><img src=\"https://colab.research.google.com/assets/colab-badge.svg\" alt=\"Open In Colab\"/></a>"
      ]
    },
    {
      "cell_type": "markdown",
      "metadata": {
        "id": "MTsyR-ajwz5G"
      },
      "source": [
        "## Regresión Lineal\n",
        "Ejemplo"
      ]
    },
    {
      "cell_type": "code",
      "metadata": {
        "id": "PCbVHS42w5zs"
      },
      "source": [
        "## Librerias\n",
        "import numpy as np\n",
        "import itertools\n",
        "from mpl_toolkits import mplot3d\n",
        "import matplotlib.pyplot as plt"
      ],
      "execution_count": 13,
      "outputs": []
    },
    {
      "cell_type": "code",
      "metadata": {
        "colab": {
          "base_uri": "https://localhost:8080/"
        },
        "id": "aUmngzt1xwmS",
        "outputId": "a07cd924-b61e-45e0-ffa1-1262faadb341"
      },
      "source": [
        "## Datos\n",
        "Carac = np.array([1, 1.5, 2, 2.5, 3, 3.5, 4, 4.5, 5, 5.5, 6])\n",
        "etiq = np.array([0.169610271922408, 0.283395812542308, 0.386358737510785, 0.470227872390909, 0.433281293764675, 0.600267648212653, 0.738338980436742, 0.790315020494445, 0.877464268422459, 0.84356446225183, 0.96443891694455])\n",
        "if len(Carac) != len(etiq):\n",
        "  print(\"Error!!!!\")\n",
        "print(\"%d datos cargados\" %(len(Carac)))"
      ],
      "execution_count": 2,
      "outputs": [
        {
          "output_type": "stream",
          "name": "stdout",
          "text": [
            "11 datos cargados\n"
          ]
        }
      ]
    },
    {
      "cell_type": "code",
      "metadata": {
        "id": "uiLjLy9h0PVB"
      },
      "source": [
        "\"\"\"\n",
        "La presente función recibe dos arreglos tipo Numpy del mismo tamaño y\n",
        "retorna la mitad del Error Cuadrático Medio de los dos array\n",
        "\"\"\"\n",
        "def funcCosto(arr_1, arr_2):\n",
        "  J = np.power(arr_1-arr_2,2)\n",
        "  return np.sum(J)/(2*len(J))"
      ],
      "execution_count": 3,
      "outputs": []
    },
    {
      "cell_type": "code",
      "metadata": {
        "colab": {
          "base_uri": "https://localhost:8080/"
        },
        "id": "FTT-19841x86",
        "outputId": "c83f5a88-372b-4799-8eb1-4c981df610cf"
      },
      "source": [
        "## Prueba de la función de costo\n",
        "print(funcCosto(etiq,etiq))\n",
        "print(funcCosto(np.array([0, 0, 0, 0, 0,1]),np.array([1, 0, 1, 1, 1,1])))"
      ],
      "execution_count": 4,
      "outputs": [
        {
          "output_type": "stream",
          "name": "stdout",
          "text": [
            "0.0\n",
            "0.3333333333333333\n"
          ]
        }
      ]
    },
    {
      "cell_type": "code",
      "metadata": {
        "id": "pD9U-irUyu1D",
        "colab": {
          "base_uri": "https://localhost:8080/"
        },
        "outputId": "a1c803ad-71a6-4f1f-d0e3-e086439dee28"
      },
      "source": [
        "## Pasos GridSearch\n",
        "#  h(x) = T0 + T1*x\n",
        "\n",
        "# 1. Valores a T0 a T1\n",
        "dict_resultados = dict()\n",
        "for T0 in np.arange(-3,3,1/100):\n",
        "  for T1 in np.arange(-3,3,1/100):\n",
        "\n",
        "#   2. Encuentras h(x)\n",
        "    h_x = T0 + T1*Carac\n",
        "\n",
        "#   3. Evalúar la función de costo\n",
        "    dict_resultados[(T0,T1)]=funcCosto(h_x,etiq)\n",
        "    \n",
        "# 4. Encontrar el menor\n",
        "parameters = list(dict_resultados.keys())\n",
        "#print(parameters)\n",
        "costValues = np.array(list(dict_resultados.values()))\n",
        "#print(costValues)\n",
        "indexMinCost = costValues.argmin()\n",
        "print(indexMinCost)\n",
        "bestParameters = parameters[indexMinCost]\n",
        "print(\"Los mejores parámetros son:\",bestParameters,\"donde la función de costo retornó: \",costValues[indexMinCost])"
      ],
      "execution_count": 5,
      "outputs": [
        {
          "output_type": "stream",
          "name": "stdout",
          "text": [
            "182716\n",
            "Los mejores parámetros son: (0.0399999999999352, 0.15999999999993264) donde la función de costo retornó:  0.0010407623021767825\n"
          ]
        }
      ]
    },
    {
      "cell_type": "code",
      "metadata": {
        "colab": {
          "base_uri": "https://localhost:8080/",
          "height": 298
        },
        "id": "93KW-MivYOwh",
        "outputId": "bb101f9b-143e-46fb-caae-91331594c3ed"
      },
      "source": [
        "#5. Encontrar R^2\n",
        "Y_1= bestParameters[0]+bestParameters[1]*Carac ##Y calculada\n",
        "error=(etiq-Y_1)           ##Error (Y real - Y calculada)\n",
        "errorT=np.sum(error*error) ##Sumatoria Error cuadrado Total\n",
        "promedioY=np.mean(etiq)    ##promedio de la Y real\n",
        "Denom=(etiq-promedioY)*(etiq-promedioY) #Varianza Denominador\n",
        "DenomSum= np.sum(Denom)    ##Sumatoria\n",
        "Rcuadrado= (1-(errorT/DenomSum)) #Calculo de R^2\n",
        "P_Rcuadrado= '{:.2%}'.format(Rcuadrado) #R^2 en porcentaje \n",
        "print(\"El valor de R^2 calculado es igual a:\",Rcuadrado, \"En porcentaje equivalente a:\",P_Rcuadrado)\n",
        "\n",
        "##Imp grafico##\n",
        "plt.scatter(Carac,etiq)\n",
        "x = np.arange(Carac.min(),Carac.max(),(Carac.max()-Carac.min())/1000)\n",
        "plt.plot(x,bestParameters[0]+bestParameters[1]*x,'r-')\n",
        "plt.title(\"Muestras e Hipótesis\")\n",
        "plt.show()\n"
      ],
      "execution_count": 103,
      "outputs": [
        {
          "output_type": "stream",
          "name": "stdout",
          "text": [
            "El valor de R^2 calculado es igual a: 0.9672935681886871 En porcentaje equivalente a: 96.73%\n"
          ]
        },
        {
          "output_type": "display_data",
          "data": {
            "image/png": "[encoded data removed]",
            "text/plain": [
              "<Figure size 432x288 with 1 Axes>"
            ]
          },
          "metadata": {
            "needs_background": "light"
          }
        }
      ]
    }
  ]
}